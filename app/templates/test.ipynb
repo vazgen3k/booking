{
 "cells": [
  {
   "cell_type": "code",
   "execution_count": 11,
   "id": "bb6c726f-7fb9-46d6-9698-dd491e9006f3",
   "metadata": {},
   "outputs": [],
   "source": [
    "import asyncio \n",
    "import time\n",
    "\n",
    "async def get_l():\n",
    "    print('s: large')\n",
    "    await asyncio.sleep(3)\n",
    "    print('end large')\n",
    "\n",
    "async def get_small():\n",
    "    print('s: small')\n",
    "    await asyncio.sleep(15)\n",
    "    print('end small')\n",
    "\n",
    "async def main1():\n",
    "    s = time.perf_counter()\n",
    "    await get_small()\n",
    "    await get_l()\n",
    "    e = time.perf_counter()\n",
    "    b = s - e\n",
    "    print (b)\n"
   ]
  },
  {
   "cell_type": "code",
   "execution_count": 12,
   "id": "0331f861-e85f-42f1-aa3a-cd0ff7764888",
   "metadata": {},
   "outputs": [
    {
     "name": "stdout",
     "output_type": "stream",
     "text": [
      "s: small\n",
      "end small\n",
      "s: large\n",
      "end large\n",
      "-18.0164992\n"
     ]
    }
   ],
   "source": [
    "await main1()"
   ]
  },
  {
   "cell_type": "code",
   "execution_count": null,
   "id": "19c9fbf3-7830-4cf5-95dc-5b1f363a47d6",
   "metadata": {},
   "outputs": [],
   "source": []
  },
  {
   "cell_type": "code",
   "execution_count": null,
   "id": "72ff598d-0662-4d42-aa7c-c123f5cbc5da",
   "metadata": {},
   "outputs": [],
   "source": []
  }
 ],
 "metadata": {
  "kernelspec": {
   "display_name": "Python 3 (ipykernel)",
   "language": "python",
   "name": "python3"
  },
  "language_info": {
   "codemirror_mode": {
    "name": "ipython",
    "version": 3
   },
   "file_extension": ".py",
   "mimetype": "text/x-python",
   "name": "python",
   "nbconvert_exporter": "python",
   "pygments_lexer": "ipython3",
   "version": "3.9.13"
  }
 },
 "nbformat": 4,
 "nbformat_minor": 5
}
