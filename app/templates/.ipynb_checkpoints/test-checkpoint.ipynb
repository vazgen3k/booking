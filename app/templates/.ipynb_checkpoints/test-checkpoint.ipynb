{
 "cells": [
  {
   "cell_type": "code",
   "execution_count": null,
   "id": "bb6c726f-7fb9-46d6-9698-dd491e9006f3",
   "metadata": {},
   "outputs": [],
   "source": [
    "async def get_l():\n",
    "    print('s: large')\n",
    "    await asyncio.sleep(3)\n",
    "    print('end large')\n",
    "\n",
    "async def get_small():\n",
    "     print('s: small')\n",
    "    await asyncio.sleep(1)\n",
    "    print('end small')\n",
    "\n",
    "async def main1():\n",
    "    st = time.perf_counter()\n",
    "    await get_small()\n",
    "    await get_l()\n",
    "    end = time.pref_counter()\n",
    "    print(f'заняло: {end-st:.2f}')"
   ]
  },
  {
   "cell_type": "code",
   "execution_count": null,
   "id": "0331f861-e85f-42f1-aa3a-cd0ff7764888",
   "metadata": {},
   "outputs": [],
   "source": [
    "await main1"
   ]
  }
 ],
 "metadata": {
  "kernelspec": {
   "display_name": "Python 3 (ipykernel)",
   "language": "python",
   "name": "python3"
  },
  "language_info": {
   "codemirror_mode": {
    "name": "ipython",
    "version": 3
   },
   "file_extension": ".py",
   "mimetype": "text/x-python",
   "name": "python",
   "nbconvert_exporter": "python",
   "pygments_lexer": "ipython3",
   "version": "3.9.13"
  }
 },
 "nbformat": 4,
 "nbformat_minor": 5
}
